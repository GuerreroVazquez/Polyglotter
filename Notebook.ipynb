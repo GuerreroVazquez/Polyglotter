{
 "cells": [
  {
   "cell_type": "code",
   "execution_count": 1,
   "metadata": {},
   "outputs": [],
   "source": [
    "# Imports\n",
    "import warnings\n",
    "warnings.filterwarnings('ignore')\n",
    "%matplotlib inline\n",
    "import sys\n",
    "sys.path.append('./NLP')\n",
    "sys.path.append('./RandomQueryGenerator')\n",
    "import os\n",
    "from TranslationToQueryGraph import *\n",
    "import matplotlib.pyplot as plt\n",
    "plt.rcParams[\"figure.figsize\"] = (6,6)"
   ]
  },
  {
   "cell_type": "markdown",
   "metadata": {},
   "source": [
    "## Play with the HumanMine model trained on 1000000 instances"
   ]
  },
  {
   "cell_type": "code",
   "execution_count": 3,
   "metadata": {},
   "outputs": [],
   "source": [
    "# Load the model\n",
    "TranslationToQueryGraphObj = TranslationToQueryGraph(translationsOutputDir = \"./NLP/Translations/\", modelsDir = \"./NLP/Models/\", schemaDir=\"./Data/Schemas/MySQLdbSchema.obj\", model=\"MySQL-1000\")\n",
    "\n",
    "# Parameters for the translation\n",
    "beam_size = 200 # Number of candidates considered in each branching of the beam search tree\n",
    "candidates_considered = 2 # Number of candidate translations that will be finally obtained from the model (i.e. if it's 2, you will get 2 queries, if 3, 3 queries, and so on)\n"
   ]
  },
  {
   "cell_type": "code",
   "execution_count": 4,
   "metadata": {},
   "outputs": [],
   "source": [
    "inputSentence = \"what is value, url, annotationversion, name from synonym, dataset, strain, probeset such that id lower than 87654\""
   ]
  },
  {
   "cell_type": "code",
   "execution_count": null,
   "metadata": {},
   "outputs": [],
   "source": []
  },
  {
   "cell_type": "code",
   "execution_count": 5,
   "metadata": {},
   "outputs": [
    {
     "name": "stdout",
     "output_type": "stream",
     "text": [
      "Sentence (natural language query):\n",
      "what is value, url, annotationversion, name from synonym, dataset, strain, probeset such that id lower than 87654\n",
      "'binding'\n",
      "\n",
      "Model predictions:\n",
      "[]\n",
      "\n",
      "\n",
      "Is minimum spanning tree of schema graph connected?: False\n"
     ]
    }
   ],
   "source": [
    "\n",
    "# Some example queries (from the test set). The last one is the one used, write your own if you want.\n",
    "\n",
    "print(\"Sentence (natural language query):\\n\" + inputSentence)\n",
    "\n",
    "# 1. Obtain predictions from the model\n",
    "modelPredictions = TranslationToQueryGraphObj.obtainSentenceModelPrediction(inputSentence, n_best=candidates_considered, beam_size=beam_size, modelCheckpoint='2000', fromFile=False)\n",
    "\n",
    "print(\"\\nModel predictions:\")\n",
    "print(modelPredictions)\n",
    "print(\"\\n\")\n",
    "\n",
    "# 2. Obtain query graphs (number corresponds to n_best) from the model's predictions\n",
    "queryGraphs = TranslationToQueryGraphObj.obtainQueryGraph(modelPredictions, debug=False)\n",
    "\n",
    "# 3. Get the English back from each of the query graphs generated\n",
    "for inx, queryGraph in enumerate(queryGraphs):\n",
    "    if(isinstance(queryGraph, str)):\n",
    "        continue\n",
    "    print(\"\\n==========English from candidate Query Graph #\" + str(inx+1) + \"=============\")\n",
    "    englishFromQueryGraph = TranslationToQueryGraphObj.getEnglishFromQueryGraph(queryGraph, showGraph=True) # To show the query graph too\n"
   ]
  },
  {
   "cell_type": "code",
   "execution_count": null,
   "metadata": {},
   "outputs": [],
   "source": []
  }
 ],
 "metadata": {
  "kernelspec": {
   "display_name": "Python 3 (ipykernel)",
   "language": "python",
   "name": "python3"
  },
  "language_info": {
   "codemirror_mode": {
    "name": "ipython",
    "version": 3
   },
   "file_extension": ".py",
   "mimetype": "text/x-python",
   "name": "python",
   "nbconvert_exporter": "python",
   "pygments_lexer": "ipython3",
   "version": "3.10.12"
  }
 },
 "nbformat": 4,
 "nbformat_minor": 4
}
